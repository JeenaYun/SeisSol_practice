{
 "cells": [
  {
   "cell_type": "code",
   "execution_count": 7,
   "id": "422559ed-4548-469d-979c-e39a582ece27",
   "metadata": {},
   "outputs": [
    {
     "name": "stdout",
     "output_type": "stream",
     "text": [
      "final slip (cm):  59.99998000000399\n",
      "done writing source.srf\n"
     ]
    }
   ],
   "source": [
    "import numpy as np\n",
    "\n",
    "lon = -117.575\n",
    "lat = 35.760\n",
    "depth = 7\n",
    "strike = 90\n",
    "dip = 90\n",
    "rake = 180\n",
    "slip1_cm = 60 # 1 meter\n",
    "slip2_cm = 000\n",
    "slip3_cm = 000\n",
    "\n",
    "tini = 0\n",
    "dt = 0.0002\n",
    "\n",
    "T = 0.1\n",
    "vtime = np.arange(0, 4, dt)\n",
    "sliprate_cm = slip1_cm * 1/T**2 * vtime * np.exp(-vtime/T)\n",
    "print('final slip (cm): ', np.trapz(sliprate_cm, vtime))\n",
    "\n",
    "M0 = 1.58e17\n",
    "rho = 2700.0\n",
    "vs = 3464.0\n",
    "mu = 2.9403e10\n",
    "area = M0/mu*1e4 # m^2 to cm^2\n",
    "\n",
    "nt1 = vtime.shape[0]\n",
    "nt2 = 0\n",
    "nt3 = 0\n",
    "\n",
    "fout=open('source.srf', 'w')\n",
    "fout.write('1.0\\n')\n",
    "fout.write('POINTS 1\\n')\n",
    "fout.write(\"%f %f %f %f %f %.10e %f %f\\n\"  %(lon, lat, depth, strike, dip, area, tini, dt))\n",
    "fout.write(\"%f %f %d %f %d %f %d\\n\"  %(rake, slip1_cm, nt1, slip2_cm, nt2, slip3_cm, nt3))\n",
    "np.savetxt(fout, sliprate_cm, fmt='%.18e')\n",
    "fout.close()\n",
    "print('done writing source.srf')"
   ]
  },
  {
   "cell_type": "code",
   "execution_count": 5,
   "id": "6cba824a-b606-4469-961c-a4a7e0bb6467",
   "metadata": {},
   "outputs": [
    {
     "data": {
      "text/plain": [
       "array([0.0000e+00, 2.0000e-04, 4.0000e-04, ..., 3.9994e+00, 3.9996e+00,\n",
       "       3.9998e+00])"
      ]
     },
     "execution_count": 5,
     "metadata": {},
     "output_type": "execute_result"
    }
   ],
   "source": [
    "# sliprate_cm.shape\n",
    "vtime"
   ]
  },
  {
   "cell_type": "code",
   "execution_count": null,
   "id": "6fec7b58-63d0-441d-922a-99480c47e10e",
   "metadata": {},
   "outputs": [],
   "source": []
  },
  {
   "cell_type": "code",
   "execution_count": null,
   "id": "22adf7ec-9678-4e8d-97b1-a7a2823c7085",
   "metadata": {},
   "outputs": [],
   "source": []
  }
 ],
 "metadata": {
  "kernelspec": {
   "display_name": "Python 3 (ipykernel)",
   "language": "python",
   "name": "python3"
  },
  "language_info": {
   "codemirror_mode": {
    "name": "ipython",
    "version": 3
   },
   "file_extension": ".py",
   "mimetype": "text/x-python",
   "name": "python",
   "nbconvert_exporter": "python",
   "pygments_lexer": "ipython3",
   "version": "3.9.2"
  }
 },
 "nbformat": 4,
 "nbformat_minor": 5
}
